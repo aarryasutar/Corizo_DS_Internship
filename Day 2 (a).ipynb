{
  "nbformat": 4,
  "nbformat_minor": 0,
  "metadata": {
    "colab": {
      "provenance": []
    },
    "kernelspec": {
      "name": "python3",
      "display_name": "Python 3"
    },
    "language_info": {
      "name": "python"
    }
  },
  "cells": [
    {
      "cell_type": "code",
      "execution_count": null,
      "metadata": {
        "id": "ISL-tx5iOlrc",
        "colab": {
          "base_uri": "https://localhost:8080/"
        },
        "outputId": "7447758e-d582-4199-9361-a07790b4901b"
      },
      "outputs": [
        {
          "output_type": "stream",
          "name": "stdout",
          "text": [
            "1D Array: [1 2 3 4 5]\n",
            "2D Array:\n",
            "[[1 2 3]\n",
            " [4 5 6]\n",
            " [7 8 9]]\n"
          ]
        }
      ],
      "source": [
        "# Introduction to NumPy Arrays\n",
        "\n",
        "# NumPy is a powerful library for numerical computing in Python.\n",
        "# It provides support for multidimensional arrays and a wide range of mathematical functions to operate on these arrays efficiently.\n",
        "\n",
        "# Example 1: Importing NumPy\n",
        "# Before using NumPy, we need to import it.\n",
        "import numpy as np\n",
        "\n",
        "# Example 2: Creating NumPy Arrays\n",
        "# NumPy arrays can be created from Python lists or using built-in functions.\n",
        "# Here's an example of creating a 1D NumPy array from a list.\n",
        "my_list = [1, 2, 3, 4, 5]\n",
        "my_array = np.array(my_list)\n",
        "print(\"1D Array:\", my_array)\n",
        "\n",
        "# Example 3: Multidimensional Arrays\n",
        "# NumPy arrays can have multiple dimensions.\n",
        "# Here's an example of creating a 2D NumPy array from a list of lists.\n",
        "my_matrix = np.array([[1, 2, 3], [4, 5, 6], [7, 8, 9]])\n",
        "print(\"2D Array:\")\n",
        "print(my_matrix)"
      ]
    },
    {
      "cell_type": "code",
      "source": [
        "# Example 1: Creating an array from 0 to 9 with step 1\n",
        "arr1 = np.arange(10)\n",
        "print(\"Example 1:\", arr1)\n",
        "\n",
        "# Example 2: Creating an array from 1 to 10 with step 2\n",
        "arr2 = np.arange(1, 11, 2)\n",
        "print(\"Example 2:\", arr2)\n",
        "\n",
        "# Example 3: Creating an array of 5 evenly spaced numbers from 0 to 10\n",
        "arr3 = np.linspace(0, 10, 5)\n",
        "print(\"Example 3:\", arr3)\n",
        "\n",
        "# Creating an array of zeros\n",
        "zeros_array = np.zeros(5)\n",
        "print(\"Array of zeros:\")\n",
        "print(zeros_array)\n",
        "\n",
        "# Creating an array of ones\n",
        "ones_array = np.ones(5)\n",
        "print(\"\\nArray of ones:\")\n",
        "print(ones_array)\n",
        "\n",
        "# Reshaping arrays\n",
        "arr = np.arange(12)  # Creating a 1D array with 12 elements\n",
        "reshaped_arr = np.reshape(arr, (3, 4))  # Reshaping to a 3x4 array\n",
        "print(\"\\nOriginal array:\")\n",
        "print(arr)\n",
        "print(\"\\nReshaped array:\")\n",
        "print(reshaped_arr)\n",
        "\n",
        "# Generating random integers\n",
        "print(\"\\nGenerating random integers:\")\n",
        "rand_integers = np.random.randint(1, 10, size=(3, 3))  # Generating a 3x3 array of random integers between 1 and 10\n",
        "print(rand_integers)\n",
        "\n",
        "# Generating random numbers from a normal distribution\n",
        "print(\"\\nGenerating random numbers from a normal distribution:\")\n",
        "rand_normal = np.random.normal(0, 1, size=(3, 3))  # Generating a 3x3 array of random numbers from a normal distribution with mean 0 and standard deviation 1\n",
        "print(rand_normal)"
      ],
      "metadata": {
        "id": "wzwDzlbI0eGy",
        "colab": {
          "base_uri": "https://localhost:8080/"
        },
        "outputId": "35cb293d-c040-420b-8f8d-635c46c782b0"
      },
      "execution_count": null,
      "outputs": [
        {
          "output_type": "stream",
          "name": "stdout",
          "text": [
            "Example 1: [0 1 2 3 4 5 6 7 8 9]\n",
            "Example 2: [1 3 5 7 9]\n",
            "Example 3: [ 0.   2.5  5.   7.5 10. ]\n",
            "Array of zeros:\n",
            "[0. 0. 0. 0. 0.]\n",
            "\n",
            "Array of ones:\n",
            "[1. 1. 1. 1. 1.]\n",
            "\n",
            "Original array:\n",
            "[ 0  1  2  3  4  5  6  7  8  9 10 11]\n",
            "\n",
            "Reshaped array:\n",
            "[[ 0  1  2  3]\n",
            " [ 4  5  6  7]\n",
            " [ 8  9 10 11]]\n",
            "\n",
            "Generating random integers:\n",
            "[[9 1 6]\n",
            " [7 6 6]\n",
            " [3 3 5]]\n",
            "\n",
            "Generating random numbers from a normal distribution:\n",
            "[[ 1.02806255  2.02715453  1.1355819 ]\n",
            " [-0.64565629  0.16779693 -0.60319703]\n",
            " [-1.20829628 -0.61911051  0.11405014]]\n"
          ]
        }
      ]
    },
    {
      "cell_type": "code",
      "source": [
        "my_array = np.ones((5,5))\n",
        "# Here's how to access these attributes.\n",
        "print(\"Shape of array:\", my_array.shape)\n",
        "print(\"Size of array:\", my_array.size)\n",
        "print(\"Data type of array:\", my_array.dtype)\n",
        "print(my_array)"
      ],
      "metadata": {
        "colab": {
          "base_uri": "https://localhost:8080/"
        },
        "id": "eg_jyuvyrq4D",
        "outputId": "9439b9db-36fb-4c3e-cfbf-a8b97f66dab0"
      },
      "execution_count": null,
      "outputs": [
        {
          "output_type": "stream",
          "name": "stdout",
          "text": [
            "Shape of array: (5, 5)\n",
            "Size of array: 25\n",
            "Data type of array: float64\n",
            "[[1. 1. 1. 1. 1.]\n",
            " [1. 1. 1. 1. 1.]\n",
            " [1. 1. 1. 1. 1.]\n",
            " [1. 1. 1. 1. 1.]\n",
            " [1. 1. 1. 1. 1.]]\n"
          ]
        }
      ]
    },
    {
      "cell_type": "code",
      "source": [
        "matrix1 = np.array([[1, 2], [3, 4]])\n",
        "matrix2 = np.array([[5, 6], [7, 8]])\n",
        "print(matrix1)\n",
        "print(matrix2)"
      ],
      "metadata": {
        "colab": {
          "base_uri": "https://localhost:8080/"
        },
        "id": "a-SyLWDWsMMF",
        "outputId": "5be65a1a-a4ec-4e89-87dd-5fae8cdcf039"
      },
      "execution_count": null,
      "outputs": [
        {
          "output_type": "stream",
          "name": "stdout",
          "text": [
            "[[1 2]\n",
            " [3 4]]\n",
            "[[5 6]\n",
            " [7 8]]\n"
          ]
        }
      ]
    },
    {
      "cell_type": "code",
      "source": [
        "# NumPy Array Attributes and Operations\n",
        "# NumPy arrays have various attributes and functions to perform operations on arrays efficiently.\n",
        "\n",
        "# Example 4: Array Attributes\n",
        "# NumPy arrays have attributes like shape, size, and dtype.\n",
        "# Here's how to access these attributes.\n",
        "print(\"Shape of array:\", my_array.shape)\n",
        "print(\"Size of array:\", my_array.size)\n",
        "print(\"Data type of array:\", my_array.dtype)\n",
        "\n",
        "# Example 5: Array Operations\n",
        "# NumPy arrays support element-wise operations and broadcasting.\n",
        "# Here's an example of performing arithmetic operations on arrays.\n",
        "arr1 = np.array([1, 2, 3])\n",
        "arr2 = np.array([4, 5, 6])\n",
        "\n",
        "print(\"Element-wise Addition:\", arr1 + arr2)\n",
        "print(\"Element-wise Subtraction:\", arr1 - arr2)\n",
        "print(\"Element-wise Multiplication:\", arr1 * arr2)\n",
        "\n",
        "# Example 6: Broadcasting\n",
        "# NumPy allows arrays with different shapes to be broadcasted to perform arithmetic operations efficiently.\n",
        "# Here's an example of broadcasting with a scalar value.\n",
        "scalar = 2\n",
        "print(\"Broadcasted Addition with Scalar:\", arr1 + scalar)\n",
        "\n",
        "# Example 7: Matrix Multiplication\n",
        "# We can perform matrix multiplication using the dot() function.\n",
        "matrix1 = np.array([[1, 2], [3, 4]])\n",
        "matrix2 = np.array([[5, 6], [7, 8]])\n",
        "print(matrix1)\n",
        "print(matrix2)\n",
        "print(\"Matrix multiplication:\\n\", np.dot(matrix1, matrix2))\n"
      ],
      "metadata": {
        "id": "rG9VrUycQNtb",
        "colab": {
          "base_uri": "https://localhost:8080/"
        },
        "outputId": "f10dfc7b-3414-47e4-f31b-25f7269f4cce"
      },
      "execution_count": null,
      "outputs": [
        {
          "output_type": "stream",
          "name": "stdout",
          "text": [
            "Shape of array: (5,)\n",
            "Size of array: 5\n",
            "Data type of array: int64\n",
            "Element-wise Addition: [5 7 9]\n",
            "Element-wise Subtraction: [-3 -3 -3]\n",
            "Element-wise Multiplication: [ 4 10 18]\n",
            "Broadcasted Addition with Scalar: [3 4 5]\n",
            "[[1 2]\n",
            " [3 4]]\n",
            "[[5 6]\n",
            " [7 8]]\n",
            "Matrix multiplication:\n",
            " [[19 22]\n",
            " [43 50]]\n"
          ]
        }
      ]
    },
    {
      "cell_type": "code",
      "source": [
        "my_array = np.arange(1,6)\n",
        "my_matrix = np.random.normal(0, 1, size=(3, 3))\n",
        "\n",
        "print(my_array)\n",
        "print(my_matrix)"
      ],
      "metadata": {
        "colab": {
          "base_uri": "https://localhost:8080/"
        },
        "id": "g0pW-IrLkDhq",
        "outputId": "fb69d356-2a56-42c3-b2a9-1787363ed8b7"
      },
      "execution_count": null,
      "outputs": [
        {
          "output_type": "stream",
          "name": "stdout",
          "text": [
            "[1 2 3 4 5]\n",
            "[[-0.93658305  1.40500449  2.62367059]\n",
            " [-0.94020122 -0.66503775 -0.60749297]\n",
            " [ 0.10038823 -1.14781697  1.89741106]]\n"
          ]
        }
      ]
    },
    {
      "cell_type": "code",
      "source": [
        "print(my_matrix[0,2])"
      ],
      "metadata": {
        "colab": {
          "base_uri": "https://localhost:8080/"
        },
        "id": "1z0VdxHNtJL-",
        "outputId": "ca48cafb-fbbf-4639-f7ff-4c63a506db32"
      },
      "execution_count": null,
      "outputs": [
        {
          "output_type": "stream",
          "name": "stdout",
          "text": [
            "2.623670594116359\n"
          ]
        }
      ]
    },
    {
      "cell_type": "code",
      "source": [
        "# NumPy Array Indexing and Slicing\n",
        "\n",
        "# NumPy arrays support advanced indexing and slicing operations to access and manipulate array elements efficiently.\n",
        "\n",
        "# Example 8: Array Indexing\n",
        "# Indexing in NumPy arrays is similar to indexing in Python lists.\n",
        "# Here's an example of accessing individual elements and rows/columns of a 2D array.\n",
        "print(\"First element of array:\", my_array[0])\n",
        "print(\"Element at row 1, column 2:\", my_matrix[0, 1])\n",
        "\n",
        "# Example 9: Array Slicing\n",
        "# Slicing allows us to extract a subarray from a larger array.\n",
        "# Here's an example of slicing a 1D array and a 2D array.\n",
        "print(\"Sliced array:\", my_array[1:4])\n",
        "print(\"Sliced submatrix:\")\n",
        "print(my_matrix[:2, 1:])\n"
      ],
      "metadata": {
        "id": "loe6ClUXQOTY",
        "colab": {
          "base_uri": "https://localhost:8080/"
        },
        "outputId": "8ffde04f-e7a0-4a02-96fe-1ad9e62ff8e4"
      },
      "execution_count": null,
      "outputs": [
        {
          "output_type": "stream",
          "name": "stdout",
          "text": [
            "First element of array: 1\n",
            "Element at row 1, column 2: 2\n",
            "Sliced array: [2 3 4]\n",
            "Sliced submatrix:\n",
            "[[2 3]\n",
            " [5 6]]\n"
          ]
        }
      ]
    },
    {
      "cell_type": "code",
      "source": [
        "# Example 8=10: Universal Functions (ufuncs)\n",
        "# NumPy provides a collection of mathematical functions called universal functions (ufuncs) that operate element-wise on arrays.\n",
        "arr = np.array([1, 2, 3, 4, 5])\n",
        "print(\"Square root of elements:\", np.sqrt(arr))  # Output: [1.         1.41421356 1.73205081 2.         2.23606798]"
      ],
      "metadata": {
        "id": "MgXtBNN-P84w",
        "colab": {
          "base_uri": "https://localhost:8080/"
        },
        "outputId": "7573fa59-cded-4521-8952-d04da2c22043"
      },
      "execution_count": null,
      "outputs": [
        {
          "output_type": "stream",
          "name": "stdout",
          "text": [
            "Square root of elements: [1.         1.41421356 1.73205081 2.         2.23606798]\n"
          ]
        }
      ]
    }
  ]
}