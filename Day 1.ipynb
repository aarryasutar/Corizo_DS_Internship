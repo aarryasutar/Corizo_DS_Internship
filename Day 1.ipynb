{
  "nbformat": 4,
  "nbformat_minor": 0,
  "metadata": {
    "colab": {
      "provenance": [],
      "collapsed_sections": [
        "kw3_xu2eIOJ7",
        "4T0M-2klIjtN",
        "Gs-FwYfcIjqa",
        "t6Cqdn4WI6cs",
        "BiAXhGjSKiM8",
        "Aa-L_6BnMhIR"
      ]
    },
    "kernelspec": {
      "name": "python3",
      "display_name": "Python 3"
    },
    "language_info": {
      "name": "python"
    }
  },
  "cells": [
    {
      "cell_type": "markdown",
      "source": [
        "# 1. Introduction to Data Science\n",
        "\n",
        "Data science is an interdisciplinary field that uses scientific methods, algorithms, processes, and systems to extract insights and knowledge from structured and unstructured data. It combines knowledge from various domains such as statistics, mathematics, computer science, and domain-specific fields to analyze and interpret complex data sets.\n",
        "\n"
      ],
      "metadata": {
        "id": "qepmtPALHYOw"
      }
    },
    {
      "cell_type": "markdown",
      "source": [
        "## What is Data Science?\n",
        "\n",
        "Data science involves the following key components:\n",
        "\n",
        "### 1. Data Collection\n",
        "Data collection is the process of gathering relevant data from various sources. This may include databases, sensors, APIs, web scraping, and more. The quality and quantity of data collected are crucial for the success of data science projects.\n",
        "\n",
        "### 2. Data Cleaning and Preprocessing\n",
        "Data cleaning involves identifying and correcting errors, inconsistencies, and missing values in the data set. Preprocessing includes transforming raw data into a format suitable for analysis, which may involve normalization, scaling, and feature engineering.\n",
        "\n",
        "### 3. Exploratory Data Analysis (EDA)\n",
        "EDA is the process of analyzing and visualizing data to uncover patterns, trends, and relationships. It helps in gaining insights into the data set and identifying potential variables that influence the outcome.\n",
        "\n",
        "### 4. Machine Learning and Statistical Modeling\n",
        "Machine learning algorithms and statistical models are used to build predictive and descriptive models from data. This involves training models on historical data and using them to make predictions or gain insights into future outcomes.\n",
        "\n",
        "### 5. Evaluation and Interpretation\n",
        "Once models are trained, they need to be evaluated to assess their performance and generalization capabilities. Interpretation of model results is crucial for making data-driven decisions and extracting actionable insights.\n",
        "\n",
        "### 6. Deployment and Maintenance\n",
        "Deploying models into production environments and maintaining their performance over time is essential for real-world applications. This involves monitoring model performance, retraining models with new data, and updating them as needed.\n",
        "\n",
        "## Why Data Science?\n",
        "\n",
        "Data science has become increasingly important in various industries due to the following reasons:\n",
        "\n",
        "- **Data-driven Decision Making:** Organizations can make informed decisions based on data-driven insights rather than relying on intuition or guesswork.\n",
        "- **Predictive Analytics:** Data science enables organizations to predict future trends, customer behavior, and market changes, allowing them to stay ahead of the competition.\n",
        "- **Personalization:** By analyzing large volumes of data, companies can personalize products, services, and marketing strategies to meet the specific needs of individual customers.\n",
        "- **Efficiency and Automation:** Data science can automate repetitive tasks, optimize processes, and improve efficiency, leading to cost savings and increased productivity.\n",
        "\n",
        "In summary, data science plays a crucial role in extracting valuable insights from data, driving innovation, and creating a competitive advantage for organizations across various industries.\n"
      ],
      "metadata": {
        "id": "_4c_6_LjNktK"
      }
    },
    {
      "cell_type": "markdown",
      "source": [
        "# 2. Python basics"
      ],
      "metadata": {
        "id": "kw3_xu2eIOJ7"
      }
    },
    {
      "cell_type": "markdown",
      "source": [
        "## 2.1 Variables and Arithmetic Operations"
      ],
      "metadata": {
        "id": "4T0M-2klIjtN"
      }
    },
    {
      "cell_type": "code",
      "source": [
        "x = 5\n",
        "y = 3\n",
        "print(\"Sum:\", x + y)\n",
        "print(\"Difference:\", x - y)\n",
        "print(\"Product:\", x * y)\n",
        "print(\"Quotient:\", x / y)\n",
        "print('Power:', x**y)"
      ],
      "metadata": {
        "id": "2cZk5FzAJhHL",
        "colab": {
          "base_uri": "https://localhost:8080/"
        },
        "outputId": "ca546927-8045-43cc-8396-86abc5fca7aa"
      },
      "execution_count": null,
      "outputs": [
        {
          "output_type": "stream",
          "name": "stdout",
          "text": [
            "Sum: 8\n",
            "Difference: 2\n",
            "Product: 15\n",
            "Quotient: 1.6666666666666667\n",
            "Power: 125\n"
          ]
        }
      ]
    },
    {
      "cell_type": "markdown",
      "source": [
        "## 2.2 Strings and string operations"
      ],
      "metadata": {
        "id": "Gs-FwYfcIjqa"
      }
    },
    {
      "cell_type": "code",
      "source": [
        "name = \"John\"\n",
        "print(\"Hello,\", name)\n",
        "print(\"Length of name:\", len(name))\n",
        "print(\"Uppercase:\", name.upper())\n",
        "print(\"Lowercase:\", name.lower())\n",
        "\n",
        "# String Concatenation\n",
        "first_name = \"John\"\n",
        "last_name = \"Doe\"\n",
        "full_name = first_name + \" \" + last_name\n",
        "print(\"Full name:\", full_name)\n",
        "\n",
        "# String Repetition\n",
        "greeting = \"Hello! \"\n",
        "repeated_greeting = greeting * 3\n",
        "print(\"Repeated greeting:\", repeated_greeting)\n",
        "\n",
        "# String Slicing\n",
        "sliced_name = name[1:3]\n",
        "print(\"Sliced name (1:3):\", sliced_name)\n",
        "\n",
        "# String Replacement\n",
        "replaced_name = name.replace(\"o\", \"a\")\n",
        "print(\"Replaced 'o' with 'a':\", replaced_name)\n",
        "\n",
        "# Check if string starts with a specific substring\n",
        "starts_with_j = name.startswith(\"J\")\n",
        "print(\"Starts with 'J':\", starts_with_j)\n",
        "\n",
        "# Check if string ends with a specific substring\n",
        "ends_with_n = name.endswith(\"n\")\n",
        "print(\"Ends with 'n':\", ends_with_n)\n",
        "\n",
        "# Splitting a string\n",
        "split_name = full_name.split()\n",
        "print(\"Split full name:\", split_name)\n",
        "\n",
        "# Joining a list of strings\n",
        "joined_name = \" \".join(split_name)\n",
        "print(\"Joined name:\", joined_name)\n",
        "\n",
        "# Finding a substring\n",
        "position = name.find(\"o\")\n",
        "print(\"Position of 'o':\", position)\n",
        "\n",
        "# Counting occurrences of a character\n",
        "count_o = name.count(\"o\")\n",
        "print(\"Count of 'o':\", count_o)\n"
      ],
      "metadata": {
        "id": "Pk0oLbvIJfSB",
        "colab": {
          "base_uri": "https://localhost:8080/"
        },
        "outputId": "c349c9f6-cbba-427d-c7a5-ec7668f3e445"
      },
      "execution_count": null,
      "outputs": [
        {
          "output_type": "stream",
          "name": "stdout",
          "text": [
            "Hello, John\n",
            "Length of name: 4\n",
            "Uppercase: JOHN\n",
            "Lowercase: john\n"
          ]
        }
      ]
    },
    {
      "cell_type": "markdown",
      "source": [
        "# 3 Data types"
      ],
      "metadata": {
        "id": "t6Cqdn4WI6cs"
      }
    },
    {
      "cell_type": "code",
      "source": [
        "# Integers and floats\n",
        "num_int = 10\n",
        "num_float = 3.14\n",
        "\n",
        "# Strings\n",
        "str1 = \"Hello\"\n",
        "str2 = 'World'\n",
        "\n",
        "# Lists  - mutable\n",
        "numbers = [1, 2, 3, 4, 5]\n",
        "\n",
        "# Tuples - immutable\n",
        "my_tuple = (1,2,3)\n",
        "\n",
        "# Dictionaries (key-value pair)\n",
        "my_dict = {\"name\": \"John\", \"age\": 30, \"city\": \"New York\", \"major\": \"Computer Science\"}\n",
        "\n",
        "# Boolean\n",
        "is_true = True\n",
        "is_false = False"
      ],
      "metadata": {
        "id": "zIUT-D9iIjoT"
      },
      "execution_count": null,
      "outputs": []
    },
    {
      "cell_type": "markdown",
      "source": [
        "## 3.1. Lists"
      ],
      "metadata": {
        "id": "BspuXlPQIjjJ"
      }
    },
    {
      "cell_type": "code",
      "source": [
        "# Example list\n",
        "my_list = [10, 20, 30, 40, 50]\n",
        "print(\"List:\", my_list)\n",
        "print(\"Length of list:\", len(my_list))\n",
        "print(\"First element:\", my_list[0])\n",
        "print(\"Last element:\", my_list[4])"
      ],
      "metadata": {
        "colab": {
          "base_uri": "https://localhost:8080/"
        },
        "id": "R3km0tQJ68Bq",
        "outputId": "11875619-144e-4dde-9483-13332ef18f42"
      },
      "execution_count": null,
      "outputs": [
        {
          "output_type": "stream",
          "name": "stdout",
          "text": [
            "List: [10, 20, 30, 40, 50]\n",
            "Length of list: 5\n",
            "First element: 10\n",
            "Last element: 50\n"
          ]
        }
      ]
    },
    {
      "cell_type": "code",
      "source": [
        "list1 = [2,4,5,7,9,0,10,12]\n",
        "sliced_list = list1[::-2]  # Elements from index 1 to index 3 (exclusive)\n",
        "sliced_list"
      ],
      "metadata": {
        "colab": {
          "base_uri": "https://localhost:8080/"
        },
        "id": "eLeUrrMb7Vzz",
        "outputId": "5ca9c02c-f0f5-4f85-8e0e-8ee4e0717a5e"
      },
      "execution_count": null,
      "outputs": [
        {
          "output_type": "execute_result",
          "data": {
            "text/plain": [
              "[12, 0, 7, 4]"
            ]
          },
          "metadata": {},
          "execution_count": 23
        }
      ]
    },
    {
      "cell_type": "code",
      "source": [
        "# Indexing and Other Functions with Lists\n",
        "\n",
        "# Lists are versatile data structures in Python that allow us to store collections of items.\n",
        "\n",
        "# Example list\n",
        "my_list = [10, 20, 30, 40, 50]\n",
        "print(\"List:\", my_list)\n",
        "print(\"Length of list:\", len(my_list))\n",
        "print(\"First element:\", my_list[0])\n",
        "print(\"Last element:\", my_list[-1])\n",
        "\n",
        "# Indexing\n",
        "# Accessing elements in a list using index values\n",
        "first_element = my_list[0]  # Index 0 corresponds to the first element\n",
        "second_element = my_list[1]  # Index 1 corresponds to the second element\n",
        "last_element = my_list[-1]  # Negative indexing to access the last element\n",
        "second_last_element = my_list[-2]  # Negative indexing to access the second last element\n",
        "\n",
        "# Slicing\n",
        "# Extracting a subsequence of elements from a list\n",
        "sliced_list = my_list[1:4]  # Elements from index 1 to index 3 (exclusive)\n",
        "reversed_list = my_list[::-1]  # Reversing the list\n",
        "\n",
        "# List Functions\n",
        "\n",
        "# Length of a list\n",
        "length_of_list = len(my_list)\n",
        "\n",
        "# Append\n",
        "# Adding an element to the end of the list\n",
        "my_list.append(60)\n",
        "\n",
        "# Insert\n",
        "# Inserting an element at a specified index position\n",
        "my_list.insert(2, 25)  # Inserting 25 at index 2\n",
        "\n",
        "# Remove\n",
        "# Removing the first occurrence of a specified value from the list\n",
        "my_list.remove(30)\n",
        "\n",
        "# Pop\n",
        "# Removing and returning the element at a specified index\n",
        "popped_element = my_list.pop(3)  # Removing element at index 3\n",
        "\n",
        "# Count\n",
        "# Counting the number of occurrences of a specified element in the list\n",
        "count_20 = my_list.count(20)\n",
        "\n",
        "# Sorting\n",
        "# Sorting the elements of the list in ascending order\n",
        "my_list.sort()\n",
        "\n",
        "# Reverse\n",
        "# Reversing the order of elements in the list\n",
        "my_list.reverse()\n",
        "\n",
        "# Printing the results\n",
        "print(\"First element:\", first_element)\n",
        "print(\"Second element:\", second_element)\n",
        "print(\"Last element:\", last_element)\n",
        "print(\"Second last element:\", second_last_element)\n",
        "print(\"Sliced list:\", sliced_list)\n",
        "print(\"Reversed list:\", reversed_list)\n",
        "print(\"Length of list:\", length_of_list)\n",
        "print(\"Appended list:\", my_list)\n",
        "print(\"Inserted list:\", my_list)\n",
        "print(\"After removal:\", my_list)\n",
        "print(\"Popped element:\", popped_element)\n",
        "print(\"Count of 20:\", count_20)\n",
        "print(\"Sorted list:\", my_list)\n",
        "print(\"Reversed list:\", my_list)\n"
      ],
      "metadata": {
        "id": "x22kJA9IKfdI",
        "colab": {
          "base_uri": "https://localhost:8080/"
        },
        "outputId": "48f5c288-be96-42c7-8d6e-13ecdf3237d8"
      },
      "execution_count": null,
      "outputs": [
        {
          "output_type": "stream",
          "name": "stdout",
          "text": [
            "List: [10, 20, 30, 40, 50]\n",
            "Length of list: 5\n",
            "First element: 10\n",
            "Last element: 50\n",
            "First element: 10\n",
            "Second element: 20\n",
            "Last element: 50\n",
            "Second last element: 40\n",
            "Sliced list: [20, 30, 40]\n",
            "Reversed list: [50, 40, 30, 20, 10]\n",
            "Length of list: 5\n",
            "Appended list: [60, 50, 25, 20, 10]\n",
            "Inserted list: [60, 50, 25, 20, 10]\n",
            "After removal: [60, 50, 25, 20, 10]\n",
            "Popped element: 40\n",
            "Count of 20: 1\n",
            "Sorted list: [60, 50, 25, 20, 10]\n",
            "Reversed list: [60, 50, 25, 20, 10]\n"
          ]
        }
      ]
    },
    {
      "cell_type": "markdown",
      "source": [
        "## 3.2 Dictionary"
      ],
      "metadata": {
        "id": "BiAXhGjSKiM8"
      }
    },
    {
      "cell_type": "code",
      "source": [
        "# Checking if a Key Exists\n",
        "# We can check if a key exists in a dictionary using the 'in' keyword.\n",
        "is_name_present = \"name\" in my_dict  # Returns True if \"name\" is present in the dictionary keys\n",
        "\n",
        "# Printing the Results\n",
        "# print(\"Updated Dictionary:\", my_dict)\n",
        "print(\"Is 'name' present?\", is_name_present)"
      ],
      "metadata": {
        "colab": {
          "base_uri": "https://localhost:8080/"
        },
        "id": "C9RMNtoZ9IL9",
        "outputId": "3d4542dc-763d-4028-ce05-9d103addc892"
      },
      "execution_count": null,
      "outputs": [
        {
          "output_type": "stream",
          "name": "stdout",
          "text": [
            "Is 'name' present? True\n"
          ]
        }
      ]
    },
    {
      "cell_type": "code",
      "source": [
        "my_dict.values()"
      ],
      "metadata": {
        "colab": {
          "base_uri": "https://localhost:8080/"
        },
        "id": "hXWfVor1Dxsm",
        "outputId": "a3d1c73d-894c-45fc-c89f-a048928f5e7a"
      },
      "execution_count": null,
      "outputs": [
        {
          "output_type": "execute_result",
          "data": {
            "text/plain": [
              "dict_values(['John', 30, 'Computer Science', 'Engineer'])"
            ]
          },
          "metadata": {},
          "execution_count": 29
        }
      ]
    },
    {
      "cell_type": "code",
      "source": [
        "# Dictionaries are another essential data type in Python. They allow us to store key-value pairs.\n",
        "\n",
        "# Example dictionary\n",
        "my_dict = {\"name\": \"John\", \"age\": 30, \"city\": \"New York\", \"major\": \"Computer Science\"}\n",
        "print(\"Dictionary:\", my_dict)\n",
        "print(\"Name:\", my_dict[\"name\"]) # Accessing value associated with the key \"name\"\n",
        "print(\"Age:\", my_dict[\"age\"])  # Accessing value associated with the key \"age\"\n",
        "\n",
        "# Adding a New Key-Value Pair\n",
        "# New key-value pairs can be added to a dictionary using assignment.\n",
        "my_dict[\"occupation\"] = \"Engineer\"\n",
        "\n",
        "# Removing a Key-Value Pair\n",
        "# Key-value pairs can be removed from a dictionary using the del keyword.\n",
        "del my_dict[\"city\"]\n",
        "\n",
        "# Checking if a Key Exists\n",
        "# We can check if a key exists in a dictionary using the 'in' keyword.\n",
        "is_name_present = \"name\" in my_dict  # Returns True if \"name\" is present in the dictionary keys\n",
        "\n",
        "# Printing the Results\n",
        "# print(\"Updated Dictionary:\", my_dict)\n",
        "print(\"Is 'name' present?\", is_name_present)"
      ],
      "metadata": {
        "id": "_2pqzzY8KzEi",
        "colab": {
          "base_uri": "https://localhost:8080/"
        },
        "outputId": "09cd646a-9791-452b-ab0d-3a624b116606"
      },
      "execution_count": null,
      "outputs": [
        {
          "output_type": "stream",
          "name": "stdout",
          "text": [
            "Dictionary: {'name': 'John', 'age': 30, 'city': 'New York', 'major': 'Computer Science'}\n",
            "Name: John\n",
            "Age: 30\n",
            "Is 'name' present? True\n"
          ]
        }
      ]
    },
    {
      "cell_type": "markdown",
      "source": [
        "# 4. Conditional statements, Loops and functions"
      ],
      "metadata": {
        "id": "Aa-L_6BnMhIR"
      }
    },
    {
      "cell_type": "code",
      "source": [
        "my_list1=[1,2,3,4,5,6]\n",
        "my_list=[1,2,3,4,5]\n",
        "for num in my_list1:\n",
        "  print(my_list)\n",
        "  print(num)"
      ],
      "metadata": {
        "colab": {
          "base_uri": "https://localhost:8080/"
        },
        "id": "YsFaQU2LEqFk",
        "outputId": "28873fb8-9334-4014-8924-c4a4e6dc3423"
      },
      "execution_count": null,
      "outputs": [
        {
          "output_type": "stream",
          "name": "stdout",
          "text": [
            "[1, 2, 3, 4, 5]\n",
            "1\n",
            "[1, 2, 3, 4, 5]\n",
            "2\n",
            "[1, 2, 3, 4, 5]\n",
            "3\n",
            "[1, 2, 3, 4, 5]\n",
            "4\n",
            "[1, 2, 3, 4, 5]\n",
            "5\n",
            "[1, 2, 3, 4, 5]\n",
            "6\n"
          ]
        }
      ]
    },
    {
      "cell_type": "code",
      "source": [
        "def classify_number(num):\n",
        "    if num > 0:\n",
        "        return \"Positive\"\n",
        "    elif num < 0:\n",
        "        return \"Negative\"\n",
        "    else:\n",
        "        return \"Zero\"\n",
        "\n",
        "print(\"Classification of -3:\", classify_number(-3))  # Output: Negative"
      ],
      "metadata": {
        "colab": {
          "base_uri": "https://localhost:8080/"
        },
        "id": "xQTYT_qIeBwP",
        "outputId": "9315c559-7340-4cad-d8a4-fa96103e7836"
      },
      "execution_count": null,
      "outputs": [
        {
          "output_type": "stream",
          "name": "stdout",
          "text": [
            "Classification of -3: Negative\n"
          ]
        }
      ]
    },
    {
      "cell_type": "code",
      "source": [
        "# Here's an example of a function that greets a person differently based on the time of day.\n",
        "def greet_time(name, hour):\n",
        "    if hour < 12:\n",
        "        return \"Good morning, \" + name + \"!\"\n",
        "    elif hour < 18:\n",
        "        return \"Good afternoon, \" + name + \"!\"\n",
        "    else:\n",
        "        return \"Good evening, \" + name + \"!\"\n",
        "\n",
        "print(greet_time(\"John\", 9))  # Output: \"Good morning, John!\""
      ],
      "metadata": {
        "colab": {
          "base_uri": "https://localhost:8080/"
        },
        "id": "DHOsjSlE-q84",
        "outputId": "08567209-6e85-430b-db80-f33794ee885b"
      },
      "execution_count": null,
      "outputs": [
        {
          "output_type": "stream",
          "name": "stdout",
          "text": [
            "Good morning, John!\n"
          ]
        }
      ]
    },
    {
      "cell_type": "code",
      "source": [
        "# For Loops, While Loops, Conditional Statements, and Functions\n",
        "\n",
        "# These are fundamental concepts in Python that allow us to perform repetitive tasks, make decisions, and encapsulate reusable blocks of code.\n",
        "\n",
        "# Example 1: For Loop\n",
        "# For loops are used to iterate over a sequence (e.g., lists, tuples, strings).\n",
        "# Here's an example of iterating over a list and printing each element.\n",
        "my_list = [1, 2, 3, 4, 5]\n",
        "for num in my_list:\n",
        "    print(num)\n",
        "\n",
        "# Example 2: While Loop\n",
        "# While loops are used to execute a block of code repeatedly as long as a condition is true.\n",
        "# Here's an example of using a while loop to print numbers from 1 to 5.\n",
        "count = 1\n",
        "while count <= 5:\n",
        "    print(count)\n",
        "    count += 1\n",
        "\n",
        "# Example 3: Conditional Statements (if, elif, else)\n",
        "# Conditional statements are used to make decisions based on conditions.\n",
        "# Here's an example of using conditional statements to determine if a number is positive, negative, or zero.\n",
        "def classify_number(num):\n",
        "    if num > 0:\n",
        "        return \"Positive\"\n",
        "    elif num < 0:\n",
        "        return \"Negative\"\n",
        "    else:\n",
        "        return \"Zero\"\n",
        "\n",
        "print(\"Classification of -3:\", classify_number(-3))  # Output: Negative\n",
        "\n",
        "\n",
        "# Example 4: Function with Conditional Statement\n",
        "# Functions can contain conditional statements to perform different actions based on conditions.\n",
        "# Here's an example of a function that greets a person differently based on the time of day.\n",
        "def greet_time(name, hour):\n",
        "    if hour < 12:\n",
        "        return \"Good morning, \" + name + \"!\"\n",
        "    elif hour < 18:\n",
        "        return \"Good afternoon, \" + name + \"!\"\n",
        "    else:\n",
        "        return \"Good evening, \" + name + \"!\"\n",
        "\n",
        "print(greet_time(\"John\", 9))  # Output: \"Good morning, John!\"\n",
        "\n",
        "\n"
      ],
      "metadata": {
        "id": "b5cCiZSmMlC1"
      },
      "execution_count": null,
      "outputs": []
    },
    {
      "cell_type": "code",
      "source": [
        "# Example 10: Function to Find Maximum Number\n",
        "def find_max(a, b):\n",
        "    if a > b:\n",
        "        return a\n",
        "    else:\n",
        "        return b\n",
        "\n",
        "print(\"Maximum of 5 and 7:\", find_max(5, 7))"
      ],
      "metadata": {
        "colab": {
          "base_uri": "https://localhost:8080/"
        },
        "id": "uCubeMBmFm4J",
        "outputId": "d7a66fc1-cbf6-4ed0-e892-6f052fbe2da6"
      },
      "execution_count": null,
      "outputs": [
        {
          "output_type": "stream",
          "name": "stdout",
          "text": [
            "Maximum of 5 and 7: 7\n"
          ]
        }
      ]
    },
    {
      "cell_type": "code",
      "source": [
        "# Example 7: For Loop\n",
        "for i in range(2,10,2):\n",
        "    print(i)"
      ],
      "metadata": {
        "colab": {
          "base_uri": "https://localhost:8080/"
        },
        "id": "AuqSX9e3Ax0P",
        "outputId": "c4c12d9d-d918-4404-f302-82a20b4c0224"
      },
      "execution_count": null,
      "outputs": [
        {
          "output_type": "stream",
          "name": "stdout",
          "text": [
            "2\n",
            "4\n",
            "6\n",
            "8\n"
          ]
        }
      ]
    },
    {
      "cell_type": "code",
      "execution_count": null,
      "metadata": {
        "id": "Nm-IhzgMGz97"
      },
      "outputs": [],
      "source": [
        "# Section 3: Loops\n",
        "\n",
        "# Loops are used to execute a block of code repeatedly.\n",
        "\n",
        "# Example 7: For Loop\n",
        "for i in range(5):\n",
        "    print(i)\n",
        "\n",
        "# Example 8: While Loop\n",
        "count = 0\n",
        "while count < 5:\n",
        "    print(count)\n",
        "    count += 1\n",
        "\n",
        "# Section 4: Functions\n",
        "\n",
        "# Functions are blocks of reusable code that perform a specific task.\n",
        "\n",
        "# Example 9: Function to Calculate Square\n",
        "def square(num):\n",
        "    return num ** 2\n",
        "\n",
        "print(\"Square of 4:\", square(4))\n",
        "\n",
        "# Example 10: Function to Find Maximum Number\n",
        "def find_max(a, b):\n",
        "    if a > b:\n",
        "        return a\n",
        "    else:\n",
        "        return b\n",
        "\n",
        "print(\"Maximum of 5 and 7:\", find_max(5, 7))"
      ]
    },
    {
      "cell_type": "code",
      "source": [
        "# Example 9: Function to Calculate Square\n",
        "def square(num):\n",
        "    return num ** 2\n",
        "\n",
        "print(\"Square of 4:\", square(4))"
      ],
      "metadata": {
        "id": "0eHcRd2pBVwk",
        "outputId": "f6e81b19-8951-4881-820b-a4a7acb08b8e",
        "colab": {
          "base_uri": "https://localhost:8080/"
        }
      },
      "execution_count": null,
      "outputs": [
        {
          "output_type": "stream",
          "name": "stdout",
          "text": [
            "Square of 4: 16\n"
          ]
        }
      ]
    },
    {
      "cell_type": "code",
      "source": [],
      "metadata": {
        "id": "rDeLHzbHBV4d"
      },
      "execution_count": null,
      "outputs": []
    }
  ]
}