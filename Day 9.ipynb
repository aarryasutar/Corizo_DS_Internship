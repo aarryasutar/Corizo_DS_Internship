{
  "cells": [
    {
      "cell_type": "markdown",
      "id": "dd1f73c5",
      "metadata": {
        "papermill": {
          "duration": 0.024174,
          "end_time": "2022-02-27T23:26:56.588675",
          "exception": false,
          "start_time": "2022-02-27T23:26:56.564501",
          "status": "completed"
        },
        "tags": [],
        "id": "dd1f73c5"
      },
      "source": [
        "# Demonstration of Central Limit Theorem"
      ]
    },
    {
      "cell_type": "code",
      "execution_count": 1,
      "id": "d0c3bbc2",
      "metadata": {
        "execution": {
          "iopub.execute_input": "2022-02-27T23:26:56.644024Z",
          "iopub.status.busy": "2022-02-27T23:26:56.642148Z",
          "iopub.status.idle": "2022-02-27T23:26:57.798958Z",
          "shell.execute_reply": "2022-02-27T23:26:57.799524Z",
          "shell.execute_reply.started": "2021-12-18T19:58:56.937353Z"
        },
        "papermill": {
          "duration": 1.186398,
          "end_time": "2022-02-27T23:26:57.799902",
          "exception": false,
          "start_time": "2022-02-27T23:26:56.613504",
          "status": "completed"
        },
        "tags": [],
        "id": "d0c3bbc2"
      },
      "outputs": [],
      "source": [
        "import numpy as np\n",
        "import matplotlib.pyplot as plt\n",
        "import seaborn as sns\n",
        "from scipy.stats import truncnorm\n",
        "from tqdm.auto import tqdm\n",
        "\n",
        "def get_data(low, high, mean, std, size):\n",
        "    data = np.round(truncnorm((low-mean)/std, (high-mean)/std, mean, std).rvs(size))\n",
        "    return data\n",
        "\n",
        "np.random.seed(seed=0) # for reproducibility\n",
        "lazy = get_data(0, 100, 30, 15, 400000)\n",
        "hardworking = get_data(0, 100, 75, 10, 600000)\n",
        "all_data = np.concatenate([lazy, hardworking])"
      ]
    },
    {
      "cell_type": "markdown",
      "id": "244938aa",
      "metadata": {
        "papermill": {
          "duration": 0.014253,
          "end_time": "2022-02-27T23:26:57.828363",
          "exception": false,
          "start_time": "2022-02-27T23:26:57.814110",
          "status": "completed"
        },
        "tags": [],
        "id": "244938aa"
      },
      "source": [
        "## Part 1: Description of the data\n",
        "\n",
        "- Note: this dataset is randomly generated, does not reflect reality.\n",
        "\n",
        "- Assume that we can obtain the math exam scores from all junior high school students studying in a country.\n",
        "\n",
        "- This is a called a **population.**\n",
        "\n",
        "- Let's look at the distribution of math grades for this population."
      ]
    },
    {
      "cell_type": "code",
      "execution_count": 2,
      "id": "a0d9e347",
      "metadata": {
        "_cell_guid": "b1076dfc-b9ad-4769-8c92-a6c4dae69d19",
        "_uuid": "8f2839f25d086af736a60e9eeb907d3b93b6e0e5",
        "execution": {
          "iopub.execute_input": "2022-02-27T23:26:57.861203Z",
          "iopub.status.busy": "2022-02-27T23:26:57.860456Z",
          "iopub.status.idle": "2022-02-27T23:26:58.178230Z",
          "shell.execute_reply": "2022-02-27T23:26:58.178745Z",
          "shell.execute_reply.started": "2021-12-18T19:58:57.486813Z"
        },
        "jupyter": {
          "source_hidden": true
        },
        "papermill": {
          "duration": 0.33607,
          "end_time": "2022-02-27T23:26:58.178946",
          "exception": false,
          "start_time": "2022-02-27T23:26:57.842876",
          "status": "completed"
        },
        "tags": [],
        "colab": {
          "base_uri": "https://localhost:8080/",
          "height": 314
        },
        "id": "a0d9e347",
        "outputId": "beb25a6c-1a7b-4c4d-984a-bfa9ba00a305"
      },
      "outputs": [
        {
          "output_type": "display_data",
          "data": {
            "text/plain": [
              "<Figure size 1500x300 with 1 Axes>"
            ],
            "image/png": "[encoded data removed]"
          },
          "metadata": {}
        }
      ],
      "source": [
        "plt.figure(figsize=(15,3))\n",
        "plt.hist(all_data, bins=50)\n",
        "plt.xticks(np.arange(0,101,5))\n",
        "plt.yticks([])\n",
        "plt.grid()\n",
        "plt.title('Distribution of grades')\n",
        "plt.show()"
      ]
    },
    {
      "cell_type": "markdown",
      "id": "2c708b94",
      "metadata": {
        "papermill": {
          "duration": 0.015284,
          "end_time": "2022-02-27T23:26:58.209200",
          "exception": false,
          "start_time": "2022-02-27T23:26:58.193916",
          "status": "completed"
        },
        "tags": [],
        "id": "2c708b94"
      },
      "source": [
        "- This distribution actually makes a lot sense because\n",
        "\n",
        "    1. The population contains some lazy students with a mean of 30\n",
        "    2. The population contains many hard-working students with a mean of 75\n",
        "    \n",
        "- We can also compute the mean and standard deviation of our population:"
      ]
    },
    {
      "cell_type": "code",
      "execution_count": 3,
      "id": "b6cdd8d1",
      "metadata": {
        "execution": {
          "iopub.execute_input": "2022-02-27T23:26:58.243478Z",
          "iopub.status.busy": "2022-02-27T23:26:58.242410Z",
          "iopub.status.idle": "2022-02-27T23:26:58.259034Z",
          "shell.execute_reply": "2022-02-27T23:26:58.259673Z",
          "shell.execute_reply.started": "2021-12-18T19:58:57.767454Z"
        },
        "papermill": {
          "duration": 0.035768,
          "end_time": "2022-02-27T23:26:58.259880",
          "exception": false,
          "start_time": "2022-02-27T23:26:58.224112",
          "status": "completed"
        },
        "tags": [],
        "colab": {
          "base_uri": "https://localhost:8080/"
        },
        "id": "b6cdd8d1",
        "outputId": "b4bdff9e-c387-4516-fa59-8f2e6ca332f3"
      },
      "outputs": [
        {
          "output_type": "stream",
          "name": "stdout",
          "text": [
            "The mean of the data is 57.24\n",
            "The standard deviation of the data is 24.55\n"
          ]
        }
      ],
      "source": [
        "print('The mean of the data is', np.round(np.mean(all_data),2))\n",
        "print('The standard deviation of the data is', np.round(np.std(all_data),2))"
      ]
    },
    {
      "cell_type": "markdown",
      "id": "eea75a11",
      "metadata": {
        "papermill": {
          "duration": 0.015117,
          "end_time": "2022-02-27T23:26:58.290365",
          "exception": false,
          "start_time": "2022-02-27T23:26:58.275248",
          "status": "completed"
        },
        "tags": [],
        "id": "eea75a11"
      },
      "source": [
        "Let's call these two numbers $\\mu$ and $\\sigma$. ($\\mu = 57.24, \\ \\sigma=24.55$)"
      ]
    },
    {
      "cell_type": "markdown",
      "id": "7e05d74b",
      "metadata": {
        "papermill": {
          "duration": 0.015084,
          "end_time": "2022-02-27T23:26:58.321108",
          "exception": false,
          "start_time": "2022-02-27T23:26:58.306024",
          "status": "completed"
        },
        "tags": [],
        "id": "7e05d74b"
      },
      "source": [
        "## Part 2: Select a sample\n",
        "\n",
        "Now let's select a sample of size 100 students and find the sample mean."
      ]
    },
    {
      "cell_type": "code",
      "execution_count": 4,
      "id": "7e83556c",
      "metadata": {
        "execution": {
          "iopub.execute_input": "2022-02-27T23:26:58.356503Z",
          "iopub.status.busy": "2022-02-27T23:26:58.355730Z",
          "iopub.status.idle": "2022-02-27T23:26:58.363223Z",
          "shell.execute_reply": "2022-02-27T23:26:58.362729Z",
          "shell.execute_reply.started": "2021-12-18T19:58:57.783174Z"
        },
        "papermill": {
          "duration": 0.026726,
          "end_time": "2022-02-27T23:26:58.363370",
          "exception": false,
          "start_time": "2022-02-27T23:26:58.336644",
          "status": "completed"
        },
        "tags": [],
        "colab": {
          "base_uri": "https://localhost:8080/"
        },
        "id": "7e83556c",
        "outputId": "6da3a04c-82df-489b-88f3-c340415e6889"
      },
      "outputs": [
        {
          "output_type": "stream",
          "name": "stdout",
          "text": [
            "The mean of this sample is 58.77\n"
          ]
        }
      ],
      "source": [
        "sample = np.random.choice(all_data, size=100)\n",
        "print('The mean of this sample is', np.round(np.mean(sample),2))"
      ]
    },
    {
      "cell_type": "markdown",
      "id": "5c26357e",
      "metadata": {
        "papermill": {
          "duration": 0.015026,
          "end_time": "2022-02-27T23:26:58.393820",
          "exception": false,
          "start_time": "2022-02-27T23:26:58.378794",
          "status": "completed"
        },
        "tags": [],
        "id": "5c26357e"
      },
      "source": [
        "## Part 3: Select 5 samples\n",
        "\n",
        "Now let's select 5 samples (of again size 100) to see their means:"
      ]
    },
    {
      "cell_type": "code",
      "execution_count": 5,
      "id": "b1dbc81d",
      "metadata": {
        "execution": {
          "iopub.execute_input": "2022-02-27T23:26:58.431906Z",
          "iopub.status.busy": "2022-02-27T23:26:58.431165Z",
          "iopub.status.idle": "2022-02-27T23:26:58.437189Z",
          "shell.execute_reply": "2022-02-27T23:26:58.437703Z",
          "shell.execute_reply.started": "2021-12-18T19:58:57.790884Z"
        },
        "papermill": {
          "duration": 0.028749,
          "end_time": "2022-02-27T23:26:58.437928",
          "exception": false,
          "start_time": "2022-02-27T23:26:58.409179",
          "status": "completed"
        },
        "tags": [],
        "colab": {
          "base_uri": "https://localhost:8080/"
        },
        "id": "b1dbc81d",
        "outputId": "4ec1d4a4-b4dc-4c01-f169-c44f64c34bcc"
      },
      "outputs": [
        {
          "output_type": "stream",
          "name": "stdout",
          "text": [
            "The mean of this sample 1 is 59.07\n",
            "The mean of this sample 2 is 61.58\n",
            "The mean of this sample 3 is 61.46\n",
            "The mean of this sample 4 is 56.25\n",
            "The mean of this sample 5 is 60.72\n"
          ]
        }
      ],
      "source": [
        "for i in range(1,6):\n",
        "    sample = np.random.choice(all_data, size=100)\n",
        "    print('The mean of this sample', i, 'is', np.round(np.mean(sample),2))"
      ]
    },
    {
      "cell_type": "markdown",
      "id": "1337e5a4",
      "metadata": {
        "papermill": {
          "duration": 0.015906,
          "end_time": "2022-02-27T23:26:58.470258",
          "exception": false,
          "start_time": "2022-02-27T23:26:58.454352",
          "status": "completed"
        },
        "tags": [],
        "id": "1337e5a4"
      },
      "source": [
        "## Part 4: Understanding Central Limit Theorem\n",
        "\n",
        "- Even if the underlying distribution is non-normal, if the sample size is large enough, the means of samples will approximately be normally distributed.\n",
        "\n",
        "- Furthermore, its mean will be the same as population mean $\\mu$,\n",
        "\n",
        "- And its standard deviation will be the population standard deviation divided by the square root of sample size which is $\\sigma \\big/ \\sqrt{\\text{sample size}}$"
      ]
    },
    {
      "cell_type": "markdown",
      "id": "d77f70c6",
      "metadata": {
        "papermill": {
          "duration": 0.016086,
          "end_time": "2022-02-27T23:26:58.502472",
          "exception": false,
          "start_time": "2022-02-27T23:26:58.486386",
          "status": "completed"
        },
        "tags": [],
        "id": "d77f70c6"
      },
      "source": [
        "## Part 5: Select 10 000 samples\n",
        "\n",
        "We select 10 000 samples of size 100, and write their means to a list."
      ]
    },
    {
      "cell_type": "code",
      "execution_count": 6,
      "id": "652cd17e",
      "metadata": {
        "execution": {
          "iopub.execute_input": "2022-02-27T23:26:58.539116Z",
          "iopub.status.busy": "2022-02-27T23:26:58.538362Z",
          "iopub.status.idle": "2022-02-27T23:26:58.574301Z",
          "shell.execute_reply": "2022-02-27T23:26:58.574884Z",
          "shell.execute_reply.started": "2021-12-18T19:58:57.808078Z"
        },
        "papermill": {
          "duration": 0.056586,
          "end_time": "2022-02-27T23:26:58.575097",
          "exception": false,
          "start_time": "2022-02-27T23:26:58.518511",
          "status": "completed"
        },
        "tags": [],
        "id": "652cd17e"
      },
      "outputs": [],
      "source": [
        "size = 100\n",
        "samples = np.random.choice(all_data, 10000*size).reshape(10000,size) #sample 10 000 x 100 times, and divide into 10 000 samples of size 100\n",
        "sample_means = samples.mean(axis=1)"
      ]
    },
    {
      "cell_type": "markdown",
      "id": "f11fb68a",
      "metadata": {
        "papermill": {
          "duration": 0.015422,
          "end_time": "2022-02-27T23:26:58.606528",
          "exception": false,
          "start_time": "2022-02-27T23:26:58.591106",
          "status": "completed"
        },
        "tags": [],
        "id": "f11fb68a"
      },
      "source": [
        "## Part 6: Visualize sample means"
      ]
    },
    {
      "cell_type": "code",
      "execution_count": 7,
      "id": "8a308d7a",
      "metadata": {
        "execution": {
          "iopub.execute_input": "2022-02-27T23:26:58.642448Z",
          "iopub.status.busy": "2022-02-27T23:26:58.641811Z",
          "iopub.status.idle": "2022-02-27T23:26:58.900950Z",
          "shell.execute_reply": "2022-02-27T23:26:58.901495Z",
          "shell.execute_reply.started": "2021-12-18T19:58:57.842687Z"
        },
        "papermill": {
          "duration": 0.279261,
          "end_time": "2022-02-27T23:26:58.901735",
          "exception": false,
          "start_time": "2022-02-27T23:26:58.622474",
          "status": "completed"
        },
        "tags": [],
        "colab": {
          "base_uri": "https://localhost:8080/",
          "height": 314
        },
        "id": "8a308d7a",
        "outputId": "4d37bb84-695d-4aab-ffc7-cb4bd9d225c2"
      },
      "outputs": [
        {
          "output_type": "display_data",
          "data": {
            "text/plain": [
              "<Figure size 1500x300 with 1 Axes>"
            ],
            "image/png": "[encoded data removed]"
          },
          "metadata": {}
        }
      ],
      "source": [
        "plt.figure(figsize=(15,3))\n",
        "plt.hist(sample_means, bins=50)\n",
        "plt.yticks([])\n",
        "plt.grid()\n",
        "plt.title('Distribution of sample means')\n",
        "plt.show()"
      ]
    },
    {
      "cell_type": "markdown",
      "id": "c8fbf288",
      "metadata": {
        "papermill": {
          "duration": 0.016274,
          "end_time": "2022-02-27T23:26:58.935136",
          "exception": false,
          "start_time": "2022-02-27T23:26:58.918862",
          "status": "completed"
        },
        "tags": [],
        "id": "c8fbf288"
      },
      "source": [
        "Hey! It looks very normal to me!"
      ]
    },
    {
      "cell_type": "markdown",
      "id": "f6c30253",
      "metadata": {
        "papermill": {
          "duration": 0.016597,
          "end_time": "2022-02-27T23:26:58.968559",
          "exception": false,
          "start_time": "2022-02-27T23:26:58.951962",
          "status": "completed"
        },
        "tags": [],
        "id": "f6c30253"
      },
      "source": [
        "## Part 7: Mean and Standard Deviation of sample means"
      ]
    },
    {
      "cell_type": "code",
      "execution_count": 8,
      "id": "8dbc4edd",
      "metadata": {
        "execution": {
          "iopub.execute_input": "2022-02-27T23:26:59.010620Z",
          "iopub.status.busy": "2022-02-27T23:26:59.009035Z",
          "iopub.status.idle": "2022-02-27T23:26:59.017639Z",
          "shell.execute_reply": "2022-02-27T23:26:59.018279Z",
          "shell.execute_reply.started": "2021-12-18T19:58:58.09856Z"
        },
        "papermill": {
          "duration": 0.032608,
          "end_time": "2022-02-27T23:26:59.018479",
          "exception": false,
          "start_time": "2022-02-27T23:26:58.985871",
          "status": "completed"
        },
        "tags": [],
        "colab": {
          "base_uri": "https://localhost:8080/"
        },
        "id": "8dbc4edd",
        "outputId": "98ee3d63-14ba-457b-a47d-49d15adb0020"
      },
      "outputs": [
        {
          "output_type": "stream",
          "name": "stdout",
          "text": [
            "The expected mean of sample means is 57.24\n",
            "The expected standard deviation of sample means is 2.455\n"
          ]
        }
      ],
      "source": [
        "print('The expected mean of sample means is', np.round(np.mean(all_data),2))\n",
        "print('The expected standard deviation of sample means is', np.round(np.std(all_data)/np.sqrt(100), 3))"
      ]
    },
    {
      "cell_type": "code",
      "execution_count": null,
      "id": "97ef1ac7",
      "metadata": {
        "execution": {
          "iopub.execute_input": "2022-02-27T23:26:59.057277Z",
          "iopub.status.busy": "2022-02-27T23:26:59.056416Z",
          "iopub.status.idle": "2022-02-27T23:26:59.062149Z",
          "shell.execute_reply": "2022-02-27T23:26:59.062710Z",
          "shell.execute_reply.started": "2021-12-18T19:58:58.111305Z"
        },
        "papermill": {
          "duration": 0.026947,
          "end_time": "2022-02-27T23:26:59.062917",
          "exception": false,
          "start_time": "2022-02-27T23:26:59.035970",
          "status": "completed"
        },
        "tags": [],
        "colab": {
          "base_uri": "https://localhost:8080/"
        },
        "id": "97ef1ac7",
        "outputId": "3f923dfd-4313-4bc6-c218-7b828b55e4f9"
      },
      "outputs": [
        {
          "output_type": "stream",
          "name": "stdout",
          "text": [
            "The mean of sample means is 57.2\n",
            "The standard deviation of sample means is 2.43\n"
          ]
        }
      ],
      "source": [
        "print('The mean of sample means is', np.round(np.mean(sample_means),2))\n",
        "print('The standard deviation of sample means is', np.round(np.std(sample_means),2))"
      ]
    },
    {
      "cell_type": "markdown",
      "id": "10a52ced",
      "metadata": {
        "papermill": {
          "duration": 0.017308,
          "end_time": "2022-02-27T23:26:59.097538",
          "exception": false,
          "start_time": "2022-02-27T23:26:59.080230",
          "status": "completed"
        },
        "tags": [],
        "id": "10a52ced"
      },
      "source": [
        "Very close!"
      ]
    }
  ],
  "metadata": {
    "kernelspec": {
      "display_name": "Python 3",
      "language": "python",
      "name": "python3"
    },
    "language_info": {
      "codemirror_mode": {
        "name": "ipython",
        "version": 3
      },
      "file_extension": ".py",
      "mimetype": "text/x-python",
      "name": "python",
      "nbconvert_exporter": "python",
      "pygments_lexer": "ipython3",
      "version": "3.7.12"
    },
    "papermill": {
      "default_parameters": {},
      "duration": 13.252291,
      "end_time": "2022-02-27T23:26:59.825588",
      "environment_variables": {},
      "exception": null,
      "input_path": "__notebook__.ipynb",
      "output_path": "__notebook__.ipynb",
      "parameters": {},
      "start_time": "2022-02-27T23:26:46.573297",
      "version": "2.3.3"
    },
    "colab": {
      "provenance": []
    }
  },
  "nbformat": 4,
  "nbformat_minor": 5
}